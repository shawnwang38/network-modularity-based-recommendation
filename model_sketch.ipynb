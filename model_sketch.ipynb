{
 "cells": [
  {
   "cell_type": "markdown",
   "metadata": {},
   "source": [
    "# DO NOT RUN: A IS TOO BIG RIGHT NOW. \n",
    "\n",
    "PLEASE SEE BOTTOM FOR PROBLEMS"
   ]
  },
  {
   "cell_type": "code",
   "execution_count": 110,
   "metadata": {},
   "outputs": [],
   "source": [
    "import igraph as ig\n",
    "import networkx as nx\n",
    "import leidenalg as la\n",
    "import numpy as np\n",
    "from sklearn import metrics\n",
    "from random import sample\n",
    "from scipy import sparse"
   ]
  },
  {
   "cell_type": "markdown",
   "metadata": {},
   "source": [
    "Sampling smaller graph G from orig_G"
   ]
  },
  {
   "cell_type": "code",
   "execution_count": 111,
   "metadata": {},
   "outputs": [],
   "source": [
    "orig_A = sparse.load_npz('./graph.npz')\n",
    "orig_G = nx.from_scipy_sparse_array(orig_A)"
   ]
  },
  {
   "cell_type": "code",
   "execution_count": 103,
   "metadata": {},
   "outputs": [
    {
     "name": "stderr",
     "output_type": "stream",
     "text": [
      "/var/folders/nn/_jpp6qsx01n4l_7998n4b4c00000gq/T/ipykernel_51517/3224624457.py:1: DeprecationWarning: Sampling from a set deprecated\n",
      "since Python 3.9 and will be removed in a subsequent version.\n",
      "  E = sample(orig_G.edges, 300)\n"
     ]
    }
   ],
   "source": [
    "E = sample(orig_G.edges, 300)\n",
    "N = []\n",
    "for i, pair in enumerate(E):\n",
    "    for ii, node in enumerate(pair):\n",
    "        N.append(node)\n",
    "N = list(set(N))\n",
    "G = orig_G.subgraph(N)"
   ]
  },
  {
   "cell_type": "markdown",
   "metadata": {},
   "source": [
    "Defining key variables "
   ]
  },
  {
   "cell_type": "code",
   "execution_count": 104,
   "metadata": {},
   "outputs": [],
   "source": [
    "A = nx.to_scipy_sparse_array(G) # adjacency sparse array\n",
    "G_o = G.copy()\n",
    "G_o.remove_edges_from(sample(E, int(0.2*len(E)))) # observed graph\n",
    "A_o = nx.to_scipy_sparse_array(G_o) "
   ]
  },
  {
   "cell_type": "code",
   "execution_count": 105,
   "metadata": {},
   "outputs": [],
   "source": [
    "partition = nx.algorithms.community.greedy_modularity_communities\n",
    "modularity = nx.algorithms.community.modularity"
   ]
  },
  {
   "cell_type": "code",
   "execution_count": 106,
   "metadata": {},
   "outputs": [],
   "source": [
    "B = sparse.csr_matrix((A.shape))"
   ]
  },
  {
   "cell_type": "markdown",
   "metadata": {},
   "source": [
    "MODEL FUNCTION BELOW"
   ]
  },
  {
   "cell_type": "code",
   "execution_count": 107,
   "metadata": {},
   "outputs": [
    {
     "data": {
      "text/plain": [
       "0.9954596862757893"
      ]
     },
     "execution_count": 107,
     "metadata": {},
     "output_type": "execute_result"
    }
   ],
   "source": [
    "comms = partition(G_o)\n",
    "orig_mod = modularity(G_o, comms)\n",
    "orig_mod"
   ]
  },
  {
   "cell_type": "code",
   "execution_count": 108,
   "metadata": {},
   "outputs": [
    {
     "name": "stdout",
     "output_type": "stream",
     "text": [
      "(598, 598)\n"
     ]
    }
   ],
   "source": [
    "print(A_o.shape)"
   ]
  },
  {
   "cell_type": "code",
   "execution_count": null,
   "metadata": {},
   "outputs": [],
   "source": [
    "# THIS THING DOESN'T WORK THIS THING DOESN'T WORK AHHHHHHHHHHHHH \n",
    "\n",
    "for i in range(A_o.shape[0]):\n",
    "    for j in range(A_o.shape[1]):\n",
    "        if i != j and G_o.has_edge(i, j) == False: \n",
    "            G_o.add_edge(i, j)\n",
    "            new_comms = partition(G_o)\n",
    "            new_mod = modularity(G_o, new_comms)\n",
    "            B[i, j] = new_mod - orig_mod # modularity contribution of edge(i,j)\n",
    "            G_o.remove_edge(i, j)"
   ]
  },
  {
   "cell_type": "code",
   "execution_count": 77,
   "metadata": {},
   "outputs": [],
   "source": [
    "def loc_max(csr): # locate edge with max modularity contribution\n",
    "    return((sparse.find(csr.max())[0][0], sparse.find(csr.max())[1][0]))"
   ]
  },
  {
   "cell_type": "code",
   "execution_count": null,
   "metadata": {},
   "outputs": [],
   "source": [
    "y_true = []\n",
    "y_score = []\n",
    "for i in range(B.count_nonzero): \n",
    "    # locate coords (i,j) of B.max()\n",
    "    # add an edge between i and j in prediction matrix \n",
    "    # remove from B\n",
    "    edge = xy_max(B)\n",
    "    y_score.append[B.max()]\n",
    "    if G_o.has_edge(edge):\n",
    "        y_true.append[1]\n",
    "    else:\n",
    "        y_true.append[0]\n",
    "    B[edge] = 0\n",
    "    "
   ]
  },
  {
   "cell_type": "code",
   "execution_count": null,
   "metadata": {},
   "outputs": [],
   "source": [
    "roc_auc = metrics.roc_auc_score(y_true=y_true, y_score=y_score)"
   ]
  }
 ],
 "metadata": {
  "interpreter": {
   "hash": "7d9dfad25ecbe40287b287773f6841a5bd71eb7e691a53d0dfe9b2e8ab7627b2"
  },
  "kernelspec": {
   "display_name": "Python 3.9.12 ('base')",
   "language": "python",
   "name": "python3"
  },
  "language_info": {
   "codemirror_mode": {
    "name": "ipython",
    "version": 3
   },
   "file_extension": ".py",
   "mimetype": "text/x-python",
   "name": "python",
   "nbconvert_exporter": "python",
   "pygments_lexer": "ipython3",
   "version": "3.9.12"
  },
  "orig_nbformat": 4
 },
 "nbformat": 4,
 "nbformat_minor": 2
}
