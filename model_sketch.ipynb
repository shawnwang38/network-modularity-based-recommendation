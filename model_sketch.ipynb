{
 "cells": [
  {
   "cell_type": "markdown",
   "metadata": {},
   "source": [
    "# DO NOT RUN: A IS TOO BIG RIGHT NOW. \n",
    "\n",
    "PLEASE SEE BOTTOM FOR PROBLEMS"
   ]
  },
  {
   "cell_type": "code",
   "execution_count": 71,
   "metadata": {},
   "outputs": [],
   "source": [
    "import igraph as ig\n",
    "from networkx import from_scipy_sparse_matrix\n",
    "import leidenalg as la\n",
    "import numpy as np\n",
    "from scipy import sparse\n",
    "A = sparse.load_npz('./graph.npz')"
   ]
  },
  {
   "cell_type": "code",
   "execution_count": null,
   "metadata": {},
   "outputs": [],
   "source": [
    "G = ig.Graph.from_networkx(from_scipy_sparse_matrix(A))"
   ]
  },
  {
   "cell_type": "code",
   "execution_count": 77,
   "metadata": {},
   "outputs": [],
   "source": [
    "B = sparse.csr_matrix((A.shape))"
   ]
  },
  {
   "cell_type": "code",
   "execution_count": 58,
   "metadata": {},
   "outputs": [],
   "source": [
    "def partition(graph):\n",
    "    partition = la.find_partition(graph, la.ModularityVertexPartition)\n",
    "    optimiser = la.Optimiser()\n",
    "    diff = 1\n",
    "    while diff > 0:\n",
    "        diff = optimiser.optimise_partition(partition)\n",
    "    return(partition)"
   ]
  },
  {
   "cell_type": "code",
   "execution_count": 61,
   "metadata": {},
   "outputs": [],
   "source": [
    "def modularity(graph, partition):\n",
    "    return(ig.Graph.modularity(graph, partition))"
   ]
  },
  {
   "cell_type": "markdown",
   "metadata": {},
   "source": [
    "# MODEL FUNCTION BELOW"
   ]
  },
  {
   "cell_type": "code",
   "execution_count": 59,
   "metadata": {},
   "outputs": [],
   "source": [
    "partition = partition(G)"
   ]
  },
  {
   "cell_type": "code",
   "execution_count": 62,
   "metadata": {},
   "outputs": [],
   "source": [
    "orig_mod = modularity(G, partition)"
   ]
  },
  {
   "cell_type": "code",
   "execution_count": null,
   "metadata": {},
   "outputs": [],
   "source": [
    "for i in range(A.shape[0]):\n",
    "    for j in range(A.shape[1]):\n",
    "        if i != j and G.are_connected(i, j) == False:\n",
    "            G.add_edge(i, j)\n",
    "            new_mod = modularity(G, partition)\n",
    "            B[i, j] = new_mod - orig_mod # modularity contribution of edge(i,j)\n",
    "for i in range(10): \n",
    "    '''\n",
    "    (10 is arbitary, i'm not sure how many edges from the top would be taken)\n",
    "    find edges with greatest modularity contributions (making graph more assortative)\n",
    "    '''\n",
    "    # locate coords (i,j) of B.max()\n",
    "    # add an edge between i and j in prediction matrix \n",
    "    # remove from B"
   ]
  },
  {
   "cell_type": "markdown",
   "metadata": {},
   "source": [
    "# END OF FUNCTION"
   ]
  },
  {
   "cell_type": "markdown",
   "metadata": {},
   "source": [
    "To be added / things I need help with:\n",
    "1. sample smaller matrix from large A matrix\n",
    "2. split train and test matrices (important)\n",
    "3. write code for the comments in the last loop\n",
    "4. decide how many of the edges, starting from highest modularity contribution, will be added to prediction matrix\n",
    "\n",
    "Please help me with number 2, maybe 3 if there's time. I'm not very experienced in working with matrices..."
   ]
  },
  {
   "cell_type": "code",
   "execution_count": null,
   "metadata": {},
   "outputs": [],
   "source": []
  }
 ],
 "metadata": {
  "interpreter": {
   "hash": "7d9dfad25ecbe40287b287773f6841a5bd71eb7e691a53d0dfe9b2e8ab7627b2"
  },
  "kernelspec": {
   "display_name": "Python 3.9.12 ('base')",
   "language": "python",
   "name": "python3"
  },
  "language_info": {
   "codemirror_mode": {
    "name": "ipython",
    "version": 3
   },
   "file_extension": ".py",
   "mimetype": "text/x-python",
   "name": "python",
   "nbconvert_exporter": "python",
   "pygments_lexer": "ipython3",
   "version": "3.9.12"
  },
  "orig_nbformat": 4
 },
 "nbformat": 4,
 "nbformat_minor": 2
}
